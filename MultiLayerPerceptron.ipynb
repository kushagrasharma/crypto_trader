{
 "cells": [
  {
   "cell_type": "code",
   "execution_count": 23,
   "metadata": {
    "collapsed": true
   },
   "outputs": [],
   "source": [
    "import math\n",
    "\n",
    "import pandas as pd\n",
    "import numpy as np\n",
    "\n",
    "from sklearn.neural_network import MLPClassifier\n",
    "from sklearn.preprocessing import StandardScaler\n",
    "from extractors import *\n",
    "\n",
    "import warnings\n",
    "warnings.filterwarnings(\"ignore\")"
   ]
  },
  {
   "cell_type": "code",
   "execution_count": 40,
   "metadata": {
    "collapsed": true
   },
   "outputs": [],
   "source": [
    "# Algorithm Parameters\n",
    "# Bounds on the data for each part of the algorithm\n",
    "training_bound = 0.8\n",
    "fit_bound = 0.9"
   ]
  },
  {
   "cell_type": "code",
   "execution_count": 41,
   "metadata": {
    "collapsed": true
   },
   "outputs": [],
   "source": [
    "# select which feature extractor to use\n",
    "extractor = KNearestNeighborsExtractor()\n",
    "\n",
    "# select which data to train and test on\n",
    "file_name = \"15min_manyFeatures.csv\""
   ]
  },
  {
   "cell_type": "code",
   "execution_count": 42,
   "metadata": {},
   "outputs": [
    {
     "name": "stdout",
     "output_type": "stream",
     "text": [
      "Opening file...\n",
      "File opened.\n"
     ]
    }
   ],
   "source": [
    "# Read in our data\n",
    "print \"Opening file...\"\n",
    "df = pd.read_csv(file_name, parse_dates=True) \n",
    "# remove datapoints without all features defined\n",
    "df = df.dropna()\n",
    "# reset our index after dropping invalid datapoints\n",
    "df = df.reset_index(drop=True)\n",
    "print \"File opened.\""
   ]
  },
  {
   "cell_type": "code",
   "execution_count": 43,
   "metadata": {},
   "outputs": [
    {
     "name": "stdout",
     "output_type": "stream",
     "text": [
      "Creating label list...\n",
      "Label list created.\n"
     ]
    }
   ],
   "source": [
    "# create list of labels - 'increase' or 'decrease' for each datapoint\n",
    "print \"Creating label list...\"\n",
    "all_labels = []\n",
    "for i in range(len(df[\"weighted_price\"]) - 1):\n",
    "    if df[\"weighted_price\"][i] < df[\"weighted_price\"][i+1]:\n",
    "        all_labels.append(\"decrease\")\n",
    "    else:\n",
    "        all_labels.append(\"increase\")\n",
    "print \"Label list created.\""
   ]
  },
  {
   "cell_type": "code",
   "execution_count": 44,
   "metadata": {},
   "outputs": [
    {
     "name": "stdout",
     "output_type": "stream",
     "text": [
      "Creating feature list...\n",
      "Feature list created.\n"
     ]
    }
   ],
   "source": [
    "# create feature vectors using the given extractor\n",
    "print \"Creating feature list...\"\n",
    "feature_vectors = []\n",
    "for index, row in df.iterrows():\n",
    "    feature_vectors.append(extractor.getFeatures(row))\n",
    "print \"Feature list created.\""
   ]
  },
  {
   "cell_type": "code",
   "execution_count": 45,
   "metadata": {},
   "outputs": [
    {
     "data": {
      "text/plain": [
       "95237"
      ]
     },
     "execution_count": 45,
     "metadata": {},
     "output_type": "execute_result"
    }
   ],
   "source": [
    "# remove last datapoint, as we don't have a label for it\n",
    "feature_vectors = feature_vectors[:-1]\n",
    "assert len(feature_vectors) == len(all_labels)\n",
    "len(feature_vectors)"
   ]
  },
  {
   "cell_type": "code",
   "execution_count": 30,
   "metadata": {
    "collapsed": true
   },
   "outputs": [],
   "source": [
    "# Remove the first half of the data set\n",
    "all_labels = all_labels[len(all_labels) / 2:]\n",
    "feature_vectors = feature_vectors[len(feature_vectors) / 2:]\n",
    "assert len(feature_vectors) == len(all_labels)"
   ]
  },
  {
   "cell_type": "code",
   "execution_count": 31,
   "metadata": {
    "collapsed": true
   },
   "outputs": [],
   "source": [
    "# normalize the feature vectors\n",
    "# feature_vectors = preprocessing.scale(feature_vectors)"
   ]
  },
  {
   "cell_type": "code",
   "execution_count": 46,
   "metadata": {
    "collapsed": true
   },
   "outputs": [],
   "source": [
    "# calculate number of datapoints to use for training\n",
    "training_datapoints = int(math.floor(len(all_labels) * training_bound))"
   ]
  },
  {
   "cell_type": "code",
   "execution_count": 47,
   "metadata": {},
   "outputs": [],
   "source": [
    "# create list of training features and labels\n",
    "train_labels = all_labels[:training_datapoints]\n",
    "train_features = feature_vectors[:training_datapoints]\n",
    "\n",
    "# normalize training data\n",
    "scaler = StandardScaler()\n",
    "scaler.fit(train_features)\n",
    "train_features = scaler.transform(train_features)"
   ]
  },
  {
   "cell_type": "code",
   "execution_count": 48,
   "metadata": {},
   "outputs": [],
   "source": [
    "# set up the classifier\n",
    "clf = MLPClassifier(solver='lbfgs', alpha=1e-5, hidden_layer_sizes=(5,2), verbose=10, random_state=1)"
   ]
  },
  {
   "cell_type": "code",
   "execution_count": 53,
   "metadata": {},
   "outputs": [],
   "source": [
    "# fit the classifier to the data\n",
    "clf = clf.fit(train_features, train_labels)"
   ]
  },
  {
   "cell_type": "code",
   "execution_count": 50,
   "metadata": {
    "collapsed": true
   },
   "outputs": [],
   "source": [
    "# optimize hyperparameters\n",
    "\n",
    "# calculate number of datapoints to use for optimizing\n",
    "fit_datapoints = int(math.floor(len(all_labels) * fit_bound))\n",
    "# create list of fit features and labels\n",
    "fit_labels = all_labels[training_datapoints:fit_datapoints]\n",
    "fit_features = feature_vectors[training_datapoints:fit_datapoints]\n",
    "assert len(fit_labels) == len(fit_features)"
   ]
  },
  {
   "cell_type": "code",
   "execution_count": 15,
   "metadata": {},
   "outputs": [
    {
     "name": "stdout",
     "output_type": "stream",
     "text": [
      "[  1.00000000e-01   1.00000000e-02   1.00000000e-03   1.00000000e-04\n",
      "   1.00000000e-05   1.00000000e-06]\n",
      "Accuracy: 51.9739605208\n",
      "Accuracy: 51.9739605208\n",
      "Accuracy: 51.9739605208\n",
      "Accuracy: 51.9739605208\n",
      "Accuracy: 51.9739605208\n",
      "Accuracy: 51.9739605208\n",
      "0.1\n"
     ]
    }
   ],
   "source": [
    "potential_alphas = 10.0 ** -np.arange(1, 7)\n",
    "print potential_alphas\n",
    "\n",
    "best_alpha = potential_alphas[0]\n",
    "best_correct = 0\n",
    "for test_alpha in potential_alphas:\n",
    "    clf.set_params(alpha=test_alpha)\n",
    "    # test current k value\n",
    "    total = 0\n",
    "    correct = 0\n",
    "    for i in range(len(fit_labels)):\n",
    "        if clf.predict(fit_features[i]) == fit_labels[i]:\n",
    "            correct += 1\n",
    "        total += 1\n",
    "    if correct > best_correct:\n",
    "        best_alpha = test_alpha\n",
    "        best_correct = correct\n",
    "    print \"Accuracy: {}\".format(100.0 * correct / total)\n",
    "print best_alpha"
   ]
  },
  {
   "cell_type": "code",
   "execution_count": 54,
   "metadata": {},
   "outputs": [],
   "source": [
    "# now, we will use the best k value for our testing\n",
    "#clf.set_params(alpha=best_alpha)\n",
    "\n",
    "# create list of testing labels and feature vectors\n",
    "test_labels = all_labels[fit_datapoints:]\n",
    "test_features = feature_vectors[fit_datapoints:]\n",
    "assert len(test_labels) == len(test_features)\n",
    "test_features = scaler.transform(test_features)"
   ]
  },
  {
   "cell_type": "code",
   "execution_count": 55,
   "metadata": {},
   "outputs": [
    {
     "data": {
      "text/plain": [
       "52.45695086098278"
      ]
     },
     "execution_count": 55,
     "metadata": {},
     "output_type": "execute_result"
    }
   ],
   "source": [
    "correct = 0\n",
    "total = 0\n",
    "for i in range(len(test_labels)):\n",
    "    if clf.predict(test_features[i]) == test_labels[i]:\n",
    "        correct += 1\n",
    "    total += 1\n",
    "100.0 * correct / total"
   ]
  },
  {
   "cell_type": "code",
   "execution_count": 18,
   "metadata": {},
   "outputs": [
    {
     "data": {
      "text/plain": [
       "49.20201595968081"
      ]
     },
     "execution_count": 18,
     "metadata": {},
     "output_type": "execute_result"
    }
   ],
   "source": [
    "100.0 * correct / total"
   ]
  },
  {
   "cell_type": "code",
   "execution_count": 28,
   "metadata": {},
   "outputs": [
    {
     "data": {
      "text/plain": [
       "14"
      ]
     },
     "execution_count": 28,
     "metadata": {},
     "output_type": "execute_result"
    }
   ],
   "source": [
    "best_k"
   ]
  },
  {
   "cell_type": "code",
   "execution_count": 41,
   "metadata": {},
   "outputs": [
    {
     "data": {
      "text/plain": [
       "array([  1.00000000e-01,   1.00000000e-02,   1.00000000e-03,\n",
       "         1.00000000e-04,   1.00000000e-05,   1.00000000e-06])"
      ]
     },
     "execution_count": 41,
     "metadata": {},
     "output_type": "execute_result"
    }
   ],
   "source": [
    "10.0 ** -np.arange(1, 7)"
   ]
  },
  {
   "cell_type": "code",
   "execution_count": null,
   "metadata": {
    "collapsed": true
   },
   "outputs": [],
   "source": []
  }
 ],
 "metadata": {
  "kernelspec": {
   "display_name": "Python 2",
   "language": "python",
   "name": "python2"
  },
  "language_info": {
   "codemirror_mode": {
    "name": "ipython",
    "version": 2
   },
   "file_extension": ".py",
   "mimetype": "text/x-python",
   "name": "python",
   "nbconvert_exporter": "python",
   "pygments_lexer": "ipython2",
   "version": "2.7.13"
  }
 },
 "nbformat": 4,
 "nbformat_minor": 2
}
