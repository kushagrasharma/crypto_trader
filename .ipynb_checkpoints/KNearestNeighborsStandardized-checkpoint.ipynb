{
 "cells": [
  {
   "cell_type": "code",
   "execution_count": 1,
   "metadata": {
    "collapsed": true
   },
   "outputs": [],
   "source": [
    "import math\n",
    "\n",
    "import pandas as pd\n",
    "import numpy as np\n",
    "\n",
    "from sklearn.neighbors import KNeighborsClassifier\n",
    "from sklearn.preprocessing import StandardScaler\n",
    "from extractors import *\n",
    "\n",
    "# supress warnings from sklearn\n",
    "import warnings\n",
    "warnings.filterwarnings(\"ignore\")"
   ]
  },
  {
   "cell_type": "code",
   "execution_count": 2,
   "metadata": {
    "collapsed": true
   },
   "outputs": [],
   "source": [
    "# Algorithm Parameters\n",
    "# Bounds on the data for each part of the algorithm\n",
    "training_bound = 0.8\n",
    "fit_bound = 0.9"
   ]
  },
  {
   "cell_type": "code",
   "execution_count": 3,
   "metadata": {
    "collapsed": true
   },
   "outputs": [],
   "source": [
    "# select which feature extractor to use\n",
    "extractor = KNearestNeighborsExtractor()\n",
    "\n",
    "# select which data to train and test on\n",
    "file_name = \"15min_manyFeatures.csv\""
   ]
  },
  {
   "cell_type": "code",
   "execution_count": 4,
   "metadata": {},
   "outputs": [
    {
     "name": "stdout",
     "output_type": "stream",
     "text": [
      "Opening file...\n",
      "File opened.\n"
     ]
    }
   ],
   "source": [
    "# Read in our data\n",
    "print \"Opening file...\"\n",
    "df = pd.read_csv(file_name, parse_dates=True) \n",
    "# remove datapoints without all features defined\n",
    "df = df.dropna()\n",
    "# reset our index after dropping invalid datapoints\n",
    "df = df.reset_index(drop=True)\n",
    "print \"File opened.\""
   ]
  },
  {
   "cell_type": "code",
   "execution_count": 5,
   "metadata": {},
   "outputs": [
    {
     "name": "stdout",
     "output_type": "stream",
     "text": [
      "Creating label list..\n",
      "Label list created.\n"
     ]
    }
   ],
   "source": [
    "# create list of labels - 'increase' or 'decrease' for each datapoint\n",
    "print \"Creating label list..\"\n",
    "all_labels = []\n",
    "for i in range(len(df[\"weighted_price\"]) - 1):\n",
    "    if df[\"weighted_price\"][i] < df[\"weighted_price\"][i+1]:\n",
    "        all_labels.append(\"decrease\")\n",
    "    else:\n",
    "        all_labels.append(\"increase\")\n",
    "print \"Label list created.\""
   ]
  },
  {
   "cell_type": "code",
   "execution_count": 6,
   "metadata": {},
   "outputs": [
    {
     "name": "stdout",
     "output_type": "stream",
     "text": [
      "Creating feature list...\n",
      "Feature list created.\n"
     ]
    }
   ],
   "source": [
    "# create feature vectors using the given extractor\n",
    "print \"Creating feature list...\"\n",
    "feature_vectors = []\n",
    "for index, row in df.iterrows():\n",
    "    feature_vectors.append(extractor.getFeatures(row))\n",
    "print \"Feature list created.\""
   ]
  },
  {
   "cell_type": "code",
   "execution_count": 7,
   "metadata": {},
   "outputs": [],
   "source": [
    "# remove last datapoint, as we don't have a label for it\n",
    "feature_vectors = feature_vectors[:-1]\n",
    "assert len(feature_vectors) == len(all_labels)"
   ]
  },
  {
   "cell_type": "code",
   "execution_count": 8,
   "metadata": {},
   "outputs": [],
   "source": [
    "# Remove the first half of the data set, which is not representative of the second half\n",
    "all_labels = all_labels[len(all_labels) / 2:]\n",
    "feature_vectors = feature_vectors[len(feature_vectors) / 2:]\n",
    "assert len(feature_vectors) == len(all_labels)"
   ]
  },
  {
   "cell_type": "code",
   "execution_count": 9,
   "metadata": {
    "collapsed": true
   },
   "outputs": [],
   "source": [
    "# calculate number of datapoints to use for training\n",
    "training_datapoints = int(math.floor(len(all_labels) * training_bound))"
   ]
  },
  {
   "cell_type": "code",
   "execution_count": 10,
   "metadata": {},
   "outputs": [],
   "source": [
    "# create list of training features and labels\n",
    "train_labels = all_labels[:training_datapoints]\n",
    "train_features = feature_vectors[:training_datapoints]\n",
    "\n",
    "# scale training data\n",
    "scaler = StandardScaler()\n",
    "scaler.fit(train_features)\n",
    "train_features = scaler.transform(train_features)"
   ]
  },
  {
   "cell_type": "code",
   "execution_count": 11,
   "metadata": {
    "collapsed": true
   },
   "outputs": [],
   "source": [
    "# set up the classifier\n",
    "neigh = KNeighborsClassifier()"
   ]
  },
  {
   "cell_type": "code",
   "execution_count": 12,
   "metadata": {},
   "outputs": [],
   "source": [
    "# fit the classifier to the data\n",
    "neigh = neigh.fit(train_features, train_labels)"
   ]
  },
  {
   "cell_type": "code",
   "execution_count": 13,
   "metadata": {
    "collapsed": true
   },
   "outputs": [],
   "source": [
    "# optimize hyperparameters\n",
    "\n",
    "# calculate number of datapoints to use for optimizing\n",
    "fit_datapoints = int(math.floor(len(all_labels) * fit_bound))\n",
    "# create list of fit features and labels\n",
    "fit_labels = all_labels[training_datapoints:fit_datapoints]\n",
    "fit_features = feature_vectors[training_datapoints:fit_datapoints]\n",
    "# scale fit features\n",
    "fit_features = scaler.transform(fit_features)\n",
    "assert len(fit_labels) == len(fit_features)"
   ]
  },
  {
   "cell_type": "code",
   "execution_count": 14,
   "metadata": {},
   "outputs": [
    {
     "name": "stdout",
     "output_type": "stream",
     "text": [
      "Test k = 1...\n",
      "Accuracy: 0.532969340613\n",
      "Test k = 2...\n",
      "Accuracy: 0.548509029819\n",
      "Test k = 3...\n",
      "Accuracy: 0.538849223016\n",
      "Test k = 4...\n",
      "Accuracy: 0.556068878622\n",
      "Test k = 5...\n",
      "Accuracy: 0.545149097018\n",
      "Test k = 6...\n",
      "Accuracy: 0.560478790424\n",
      "Test k = 7...\n",
      "Accuracy: 0.557958840823\n",
      "Test k = 8...\n",
      "Accuracy: 0.566778664427\n",
      "Test k = 9...\n",
      "Accuracy: 0.566148677026\n",
      "Test k = 10...\n",
      "Accuracy: 0.576438471231\n"
     ]
    }
   ],
   "source": [
    "best_k = 1\n",
    "best_correct = 0\n",
    "for test_k in range(1,11):\n",
    "    print \"Test k = {}...\".format(test_k)\n",
    "    neigh.set_params(n_neighbors=test_k)\n",
    "    correct = 0\n",
    "    total = 0\n",
    "    # test current k value\n",
    "    for i in range(len(fit_labels)):\n",
    "        if neigh.predict(fit_features[i]) == fit_labels[i]:\n",
    "            correct += 1\n",
    "        total += 1\n",
    "    if correct > best_correct:\n",
    "        best_k = test_k\n",
    "        best_correct = correct\n",
    "    print \"Accuracy: {}\".format(1.0 * correct / total)"
   ]
  },
  {
   "cell_type": "code",
   "execution_count": 15,
   "metadata": {},
   "outputs": [
    {
     "data": {
      "text/plain": [
       "10"
      ]
     },
     "execution_count": 15,
     "metadata": {},
     "output_type": "execute_result"
    }
   ],
   "source": [
    "best_k"
   ]
  },
  {
   "cell_type": "code",
   "execution_count": 30,
   "metadata": {
    "collapsed": true
   },
   "outputs": [],
   "source": [
    "# now, we will use the best k value for our testing\n",
    "neigh.set_params(n_neighbors=best_k)\n",
    "\n",
    "# create list of testing labels and feature vectors\n",
    "test_labels = all_labels[fit_datapoints:]\n",
    "test_features = feature_vectors[fit_datapoints:]\n",
    "assert len(test_labels) == len(test_features)\n",
    "# scale test_features\n",
    "test_features = scaler.transform(test_features)"
   ]
  },
  {
   "cell_type": "code",
   "execution_count": 31,
   "metadata": {},
   "outputs": [
    {
     "data": {
      "text/plain": [
       "0.5434691306173877"
      ]
     },
     "execution_count": 31,
     "metadata": {},
     "output_type": "execute_result"
    }
   ],
   "source": [
    "correct = 0\n",
    "total = 0\n",
    "for i in range(len(test_labels)):\n",
    "    if neigh.predict(test_features[i]) == test_labels[i]:\n",
    "        correct += 1\n",
    "    total += 1\n",
    "1.0 * correct / total"
   ]
  },
  {
   "cell_type": "code",
   "execution_count": 32,
   "metadata": {},
   "outputs": [
    {
     "data": {
      "text/plain": [
       "0.5434691306173877"
      ]
     },
     "execution_count": 32,
     "metadata": {},
     "output_type": "execute_result"
    }
   ],
   "source": [
    "1.0 * correct / total"
   ]
  },
  {
   "cell_type": "code",
   "execution_count": null,
   "metadata": {},
   "outputs": [],
   "source": []
  },
  {
   "cell_type": "code",
   "execution_count": null,
   "metadata": {
    "collapsed": true
   },
   "outputs": [],
   "source": []
  }
 ],
 "metadata": {
  "kernelspec": {
   "display_name": "Python 2",
   "language": "python",
   "name": "python2"
  },
  "language_info": {
   "codemirror_mode": {
    "name": "ipython",
    "version": 2
   },
   "file_extension": ".py",
   "mimetype": "text/x-python",
   "name": "python",
   "nbconvert_exporter": "python",
   "pygments_lexer": "ipython2",
   "version": "2.7.13"
  }
 },
 "nbformat": 4,
 "nbformat_minor": 2
}
