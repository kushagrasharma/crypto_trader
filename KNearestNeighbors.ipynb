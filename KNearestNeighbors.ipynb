{
 "cells": [
  {
   "cell_type": "code",
   "execution_count": 24,
   "metadata": {
    "collapsed": true
   },
   "outputs": [],
   "source": [
    "import math\n",
    "\n",
    "import pandas as pd\n",
    "import numpy as np\n",
    "\n",
    "from sklearn.neighbors import KNeighborsClassifier\n",
    "from extractors import *\n",
    "\n",
    "import warnings\n",
    "warnings.filterwarnings(\"ignore\")"
   ]
  },
  {
   "cell_type": "code",
   "execution_count": 25,
   "metadata": {
    "collapsed": true
   },
   "outputs": [],
   "source": [
    "# Algorithm Parameters\n",
    "# Bounds on the data for each part of the algorithm\n",
    "training_bound = 0.8\n",
    "fit_bound = 0.9"
   ]
  },
  {
   "cell_type": "code",
   "execution_count": 26,
   "metadata": {
    "collapsed": true
   },
   "outputs": [],
   "source": [
    "# select which feature extractor to use\n",
    "extractor = KNearestNeighborsExtractor()\n",
    "\n",
    "# select which data to train and test on\n",
    "file_name = \"15min_manyFeatures.csv\""
   ]
  },
  {
   "cell_type": "code",
   "execution_count": 27,
   "metadata": {},
   "outputs": [
    {
     "name": "stdout",
     "output_type": "stream",
     "text": [
      "Opening file...\n",
      "File opened.\n"
     ]
    }
   ],
   "source": [
    "# Read in our data\n",
    "print \"Opening file...\"\n",
    "df = pd.read_csv(file_name, parse_dates=True) \n",
    "# remove datapoints without all features defined\n",
    "df = df.dropna()\n",
    "# reset our index after dropping invalid datapoints\n",
    "df = df.reset_index(drop=True)\n",
    "print \"File opened.\""
   ]
  },
  {
   "cell_type": "code",
   "execution_count": 28,
   "metadata": {},
   "outputs": [
    {
     "name": "stdout",
     "output_type": "stream",
     "text": [
      "Creating label list..\n",
      "Label list created.\n"
     ]
    }
   ],
   "source": [
    "# create list of labels - 'increase' or 'decrease' for each datapoint\n",
    "print \"Creating label list..\"\n",
    "all_labels = []\n",
    "for i in range(len(df[\"weighted_price\"]) - 1):\n",
    "    if df[\"weighted_price\"][i] < df[\"weighted_price\"][i+1]:\n",
    "        all_labels.append(\"decrease\")\n",
    "    else:\n",
    "        all_labels.append(\"increase\")\n",
    "print \"Label list created.\""
   ]
  },
  {
   "cell_type": "code",
   "execution_count": 29,
   "metadata": {},
   "outputs": [
    {
     "name": "stdout",
     "output_type": "stream",
     "text": [
      "Creating feature list...\n",
      "Feature list created.\n"
     ]
    }
   ],
   "source": [
    "# create feature vectors using the given extractor\n",
    "print \"Creating feature list...\"\n",
    "feature_vectors = []\n",
    "for index, row in df.iterrows():\n",
    "    feature_vectors.append(extractor.getFeatures(row))\n",
    "print \"Feature list created.\""
   ]
  },
  {
   "cell_type": "code",
   "execution_count": 30,
   "metadata": {},
   "outputs": [],
   "source": [
    "# remove last datapoint, as we don't have a label for it\n",
    "feature_vectors = feature_vectors[:-1]\n",
    "assert len(feature_vectors) == len(all_labels)"
   ]
  },
  {
   "cell_type": "code",
   "execution_count": 31,
   "metadata": {
    "collapsed": true
   },
   "outputs": [],
   "source": [
    "# Remove the first half of the data set\n",
    "all_labels = all_labels[len(all_labels) / 2:]\n",
    "feature_vectors = feature_vectors[len(feature_vectors) / 2:]\n",
    "assert len(feature_vectors) == len(all_labels)"
   ]
  },
  {
   "cell_type": "code",
   "execution_count": 32,
   "metadata": {
    "collapsed": true
   },
   "outputs": [],
   "source": [
    "# calculate number of datapoints to use for training\n",
    "training_datapoints = int(math.floor(len(all_labels) * training_bound))"
   ]
  },
  {
   "cell_type": "code",
   "execution_count": 33,
   "metadata": {},
   "outputs": [],
   "source": [
    "# create list of training features and labels\n",
    "train_labels = all_labels[:training_datapoints]\n",
    "train_features = feature_vectors[:training_datapoints]"
   ]
  },
  {
   "cell_type": "code",
   "execution_count": 34,
   "metadata": {},
   "outputs": [],
   "source": [
    "# set up the classifier\n",
    "neigh = KNeighborsClassifier()"
   ]
  },
  {
   "cell_type": "code",
   "execution_count": 35,
   "metadata": {},
   "outputs": [],
   "source": [
    "# fit the classifier to the data\n",
    "neigh = neigh.fit(train_features, train_labels)"
   ]
  },
  {
   "cell_type": "code",
   "execution_count": 36,
   "metadata": {},
   "outputs": [],
   "source": [
    "# optimize hyperparameters\n",
    "\n",
    "# calculate number of datapoints to use for optimizing\n",
    "fit_datapoints = int(math.floor(len(all_labels) * fit_bound))\n",
    "# create list of fit features and labels\n",
    "fit_labels = all_labels[training_datapoints:fit_datapoints]\n",
    "fit_features = feature_vectors[training_datapoints:fit_datapoints]\n",
    "assert len(fit_labels) == len(fit_features)"
   ]
  },
  {
   "cell_type": "code",
   "execution_count": 37,
   "metadata": {},
   "outputs": [
    {
     "name": "stdout",
     "output_type": "stream",
     "text": [
      "Test k = 1...\n",
      "Accuracy: 0.488030239395\n",
      "Test k = 2...\n",
      "Accuracy: 0.484880302394\n",
      "Test k = 3...\n",
      "Accuracy: 0.490760184796\n",
      "Test k = 4...\n",
      "Accuracy: 0.491390172197\n",
      "Test k = 5...\n",
      "Accuracy: 0.491180176396\n",
      "Test k = 6...\n",
      "Accuracy: 0.492860142797\n",
      "Test k = 7...\n",
      "Accuracy: 0.493490130197\n",
      "Test k = 8...\n",
      "Accuracy: 0.493490130197\n",
      "Test k = 9...\n",
      "Accuracy: 0.490130197396\n",
      "Test k = 10...\n",
      "Accuracy: 0.490760184796\n",
      "Test k = 11...\n",
      "Accuracy: 0.489080218396\n",
      "Test k = 12...\n",
      "Accuracy: 0.489080218396\n",
      "Test k = 13...\n",
      "Accuracy: 0.486770264595\n",
      "Test k = 14...\n",
      "Accuracy: 0.487400251995\n"
     ]
    }
   ],
   "source": [
    "best_k = 1\n",
    "best_correct = 0\n",
    "for test_k in range(1,15):\n",
    "    print \"Test k = {}...\".format(test_k)\n",
    "    neigh.set_params(n_neighbors=test_k)\n",
    "    correct = 0\n",
    "    total = 0\n",
    "    # test current k value\n",
    "    for i in range(len(fit_labels)):\n",
    "        if neigh.predict(fit_features[i]) == fit_labels[i]:\n",
    "            correct += 1\n",
    "        total += 1\n",
    "    if correct > best_correct:\n",
    "        best_k = test_k\n",
    "        best_correct = correct\n",
    "    print \"Accuracy: {}\".format(1.0 * correct / total)"
   ]
  },
  {
   "cell_type": "code",
   "execution_count": 38,
   "metadata": {},
   "outputs": [],
   "source": [
    "# now, we will use the best k value for our testing\n",
    "neigh.set_params(n_neighbors=best_k)\n",
    "\n",
    "# create list of testing labels and feature vectors\n",
    "test_labels = all_labels[fit_datapoints:]\n",
    "test_features = feature_vectors[fit_datapoints:]\n",
    "assert len(test_labels) == len(test_features)"
   ]
  },
  {
   "cell_type": "code",
   "execution_count": 40,
   "metadata": {},
   "outputs": [],
   "source": [
    "correct = 0\n",
    "total = 0\n",
    "for i in range(len(test_labels)):\n",
    "    if neigh.predict(test_features[i]) == test_labels[i]:\n",
    "        correct += 1\n",
    "    total += 1"
   ]
  },
  {
   "cell_type": "code",
   "execution_count": 41,
   "metadata": {},
   "outputs": [
    {
     "data": {
      "text/plain": [
       "0.4794204115917682"
      ]
     },
     "execution_count": 41,
     "metadata": {},
     "output_type": "execute_result"
    }
   ],
   "source": [
    "1.0 * correct / total"
   ]
  },
  {
   "cell_type": "code",
   "execution_count": 39,
   "metadata": {},
   "outputs": [
    {
     "data": {
      "text/plain": [
       "7"
      ]
     },
     "execution_count": 39,
     "metadata": {},
     "output_type": "execute_result"
    }
   ],
   "source": [
    "best_k"
   ]
  },
  {
   "cell_type": "code",
   "execution_count": null,
   "metadata": {
    "collapsed": true
   },
   "outputs": [],
   "source": []
  }
 ],
 "metadata": {
  "kernelspec": {
   "display_name": "Python 2",
   "language": "python",
   "name": "python2"
  },
  "language_info": {
   "codemirror_mode": {
    "name": "ipython",
    "version": 2
   },
   "file_extension": ".py",
   "mimetype": "text/x-python",
   "name": "python",
   "nbconvert_exporter": "python",
   "pygments_lexer": "ipython2",
   "version": "2.7.13"
  }
 },
 "nbformat": 4,
 "nbformat_minor": 2
}
